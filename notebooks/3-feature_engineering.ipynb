{
 "cells": [
  {
   "cell_type": "markdown",
   "id": "1f2f7cd0",
   "metadata": {},
   "source": [
    "## Feature Engineering for Energy Consumption Forecasting\n",
    "\n",
    "- In this notebook, I will create new features to enhance the predictive power of our energy consumption forecasting models.  \n",
    "- Feature engineering involves transforming raw data into meaningful inputs that help machine learning algorithms capture patterns, trends, and seasonality.  \n",
    "- I will extract time-based features, generate lagged variables, rolling statistics, and other relevant attributes to improve model accuracy and performance."
   ]
  },
  {
   "cell_type": "code",
   "execution_count": 17,
   "id": "a402530f",
   "metadata": {},
   "outputs": [],
   "source": [
    "import pandas as pd"
   ]
  },
  {
   "cell_type": "code",
   "execution_count": 18,
   "id": "2bd63a5c",
   "metadata": {},
   "outputs": [],
   "source": [
    "## accessing the data\n",
    "df_cleaned = pd.read_parquet(r\"C:\\Users\\himan\\Desktop\\Projects\\Energy_Forecasting_System\\data\\processed-data\\est_hourly_cleaned.parquet\")"
   ]
  },
  {
   "cell_type": "code",
   "execution_count": 19,
   "id": "d9fdd061",
   "metadata": {},
   "outputs": [
    {
     "data": {
      "text/html": [
       "<div>\n",
       "<style scoped>\n",
       "    .dataframe tbody tr th:only-of-type {\n",
       "        vertical-align: middle;\n",
       "    }\n",
       "\n",
       "    .dataframe tbody tr th {\n",
       "        vertical-align: top;\n",
       "    }\n",
       "\n",
       "    .dataframe thead th {\n",
       "        text-align: right;\n",
       "    }\n",
       "</style>\n",
       "<table border=\"1\" class=\"dataframe\">\n",
       "  <thead>\n",
       "    <tr style=\"text-align: right;\">\n",
       "      <th></th>\n",
       "      <th>AEP</th>\n",
       "      <th>COMED</th>\n",
       "      <th>DAYTON</th>\n",
       "      <th>DEOK</th>\n",
       "      <th>DOM</th>\n",
       "      <th>DUQ</th>\n",
       "      <th>EKPC</th>\n",
       "      <th>FE</th>\n",
       "      <th>NI</th>\n",
       "      <th>PJME</th>\n",
       "      <th>PJMW</th>\n",
       "      <th>PJM_Load</th>\n",
       "    </tr>\n",
       "    <tr>\n",
       "      <th>Datetime</th>\n",
       "      <th></th>\n",
       "      <th></th>\n",
       "      <th></th>\n",
       "      <th></th>\n",
       "      <th></th>\n",
       "      <th></th>\n",
       "      <th></th>\n",
       "      <th></th>\n",
       "      <th></th>\n",
       "      <th></th>\n",
       "      <th></th>\n",
       "      <th></th>\n",
       "    </tr>\n",
       "  </thead>\n",
       "  <tbody>\n",
       "    <tr>\n",
       "      <th>1998-12-31 01:00:00+00:00</th>\n",
       "      <td>13478.0</td>\n",
       "      <td>9970.0</td>\n",
       "      <td>1596.0</td>\n",
       "      <td>2945.0</td>\n",
       "      <td>9389.0</td>\n",
       "      <td>1458.0</td>\n",
       "      <td>1861.0</td>\n",
       "      <td>6222.0</td>\n",
       "      <td>9810.0</td>\n",
       "      <td>26498.0</td>\n",
       "      <td>5077.0</td>\n",
       "      <td>31569.0</td>\n",
       "    </tr>\n",
       "    <tr>\n",
       "      <th>1998-12-31 02:00:00+00:00</th>\n",
       "      <td>13478.0</td>\n",
       "      <td>9970.0</td>\n",
       "      <td>1596.0</td>\n",
       "      <td>2945.0</td>\n",
       "      <td>9389.0</td>\n",
       "      <td>1458.0</td>\n",
       "      <td>1861.0</td>\n",
       "      <td>6222.0</td>\n",
       "      <td>9810.0</td>\n",
       "      <td>26498.0</td>\n",
       "      <td>5077.0</td>\n",
       "      <td>31569.0</td>\n",
       "    </tr>\n",
       "    <tr>\n",
       "      <th>1998-12-31 03:00:00+00:00</th>\n",
       "      <td>13478.0</td>\n",
       "      <td>9970.0</td>\n",
       "      <td>1596.0</td>\n",
       "      <td>2945.0</td>\n",
       "      <td>9389.0</td>\n",
       "      <td>1458.0</td>\n",
       "      <td>1861.0</td>\n",
       "      <td>6222.0</td>\n",
       "      <td>9810.0</td>\n",
       "      <td>26498.0</td>\n",
       "      <td>5077.0</td>\n",
       "      <td>31569.0</td>\n",
       "    </tr>\n",
       "    <tr>\n",
       "      <th>1998-12-31 04:00:00+00:00</th>\n",
       "      <td>13478.0</td>\n",
       "      <td>9970.0</td>\n",
       "      <td>1596.0</td>\n",
       "      <td>2945.0</td>\n",
       "      <td>9389.0</td>\n",
       "      <td>1458.0</td>\n",
       "      <td>1861.0</td>\n",
       "      <td>6222.0</td>\n",
       "      <td>9810.0</td>\n",
       "      <td>26498.0</td>\n",
       "      <td>5077.0</td>\n",
       "      <td>31569.0</td>\n",
       "    </tr>\n",
       "    <tr>\n",
       "      <th>1998-12-31 05:00:00+00:00</th>\n",
       "      <td>13478.0</td>\n",
       "      <td>9970.0</td>\n",
       "      <td>1596.0</td>\n",
       "      <td>2945.0</td>\n",
       "      <td>9389.0</td>\n",
       "      <td>1458.0</td>\n",
       "      <td>1861.0</td>\n",
       "      <td>6222.0</td>\n",
       "      <td>9810.0</td>\n",
       "      <td>26498.0</td>\n",
       "      <td>5077.0</td>\n",
       "      <td>31569.0</td>\n",
       "    </tr>\n",
       "  </tbody>\n",
       "</table>\n",
       "</div>"
      ],
      "text/plain": [
       "                               AEP   COMED  DAYTON    DEOK     DOM     DUQ  \\\n",
       "Datetime                                                                     \n",
       "1998-12-31 01:00:00+00:00  13478.0  9970.0  1596.0  2945.0  9389.0  1458.0   \n",
       "1998-12-31 02:00:00+00:00  13478.0  9970.0  1596.0  2945.0  9389.0  1458.0   \n",
       "1998-12-31 03:00:00+00:00  13478.0  9970.0  1596.0  2945.0  9389.0  1458.0   \n",
       "1998-12-31 04:00:00+00:00  13478.0  9970.0  1596.0  2945.0  9389.0  1458.0   \n",
       "1998-12-31 05:00:00+00:00  13478.0  9970.0  1596.0  2945.0  9389.0  1458.0   \n",
       "\n",
       "                             EKPC      FE      NI     PJME    PJMW  PJM_Load  \n",
       "Datetime                                                                      \n",
       "1998-12-31 01:00:00+00:00  1861.0  6222.0  9810.0  26498.0  5077.0   31569.0  \n",
       "1998-12-31 02:00:00+00:00  1861.0  6222.0  9810.0  26498.0  5077.0   31569.0  \n",
       "1998-12-31 03:00:00+00:00  1861.0  6222.0  9810.0  26498.0  5077.0   31569.0  \n",
       "1998-12-31 04:00:00+00:00  1861.0  6222.0  9810.0  26498.0  5077.0   31569.0  \n",
       "1998-12-31 05:00:00+00:00  1861.0  6222.0  9810.0  26498.0  5077.0   31569.0  "
      ]
     },
     "execution_count": 19,
     "metadata": {},
     "output_type": "execute_result"
    }
   ],
   "source": [
    "df_cleaned.head()"
   ]
  },
  {
   "cell_type": "code",
   "execution_count": 20,
   "id": "87e86963",
   "metadata": {},
   "outputs": [
    {
     "data": {
      "text/plain": [
       "(162080, 12)"
      ]
     },
     "execution_count": 20,
     "metadata": {},
     "output_type": "execute_result"
    }
   ],
   "source": [
    "df_cleaned.shape"
   ]
  },
  {
   "cell_type": "code",
   "execution_count": 21,
   "id": "7728a7c0",
   "metadata": {},
   "outputs": [
    {
     "data": {
      "text/plain": [
       "Index(['AEP', 'COMED', 'DAYTON', 'DEOK', 'DOM', 'DUQ', 'EKPC', 'FE', 'NI',\n",
       "       'PJME', 'PJMW', 'PJM_Load'],\n",
       "      dtype='object')"
      ]
     },
     "execution_count": 21,
     "metadata": {},
     "output_type": "execute_result"
    }
   ],
   "source": [
    "df_cleaned.columns"
   ]
  },
  {
   "cell_type": "markdown",
   "id": "431962ab",
   "metadata": {},
   "source": [
    "##### Extracting time-based feature"
   ]
  },
  {
   "cell_type": "code",
   "execution_count": 22,
   "id": "382e1dca",
   "metadata": {},
   "outputs": [],
   "source": [
    "## extracting time-based features\n",
    "df_cleaned['hour'] = df_cleaned.index.hour\n",
    "df_cleaned['day_of_week'] = df_cleaned.index.dayofweek\n",
    "df_cleaned['month'] = df_cleaned.index.month\n",
    "df_cleaned['day_of_year'] = df_cleaned.index.dayofyear\n",
    "df_cleaned['is_weekend'] = (df_cleaned.index.dayofweek >= 5).astype(int)"
   ]
  },
  {
   "cell_type": "markdown",
   "id": "03c0b8cd",
   "metadata": {},
   "source": [
    "##### Lag Feature  \n",
    "A lag feature is a past value of a variable used as a predictor for future values.  \n",
    "Think of it as teaching our model:  \n",
    "“What happened 1 hour/day/week ago might help predict what happens now or next.”"
   ]
  },
  {
   "cell_type": "code",
   "execution_count": 23,
   "id": "5460c9f3",
   "metadata": {},
   "outputs": [],
   "source": [
    "core_cols = ['AEP', 'COMED', 'DAYTON', 'DEOK', 'DOM', 'DUQ', \n",
    "             'EKPC', 'FE', 'NI', 'PJME', 'PJMW', 'PJM_Load']\n",
    "\n",
    "for col in core_cols:\n",
    "    # Add lag features\n",
    "    df_cleaned[f'{col}_lag_1'] = df_cleaned[col].shift(1)\n",
    "    # Add rolling features\n",
    "    df_cleaned[f'{col}_rolling_mean_24'] = df_cleaned[col].rolling(window=24).mean()\n",
    "    df_cleaned[f'{col}_rolling_std_24'] = df_cleaned[col].rolling(window=24).std()"
   ]
  },
  {
   "cell_type": "markdown",
   "id": "3eb3c630",
   "metadata": {},
   "source": [
    "##### Holiday Indicators\n",
    "This feature allows the model to distinguish between regular and holiday days, improving its ability to capture sudden shifts in demand and enhancing forecast accuracy.  "
   ]
  },
  {
   "cell_type": "code",
   "execution_count": 24,
   "id": "e65f5e35",
   "metadata": {},
   "outputs": [],
   "source": [
    "import pandas as pd\n",
    "from pandas.tseries.holiday import USFederalHolidayCalendar\n",
    "\n",
    "calendar = USFederalHolidayCalendar()\n",
    "holidays = calendar.holidays(start=df_cleaned.index.min(), end=df_cleaned.index.max())\n",
    "\n",
    "df_cleaned['is_holiday'] = df_cleaned.index.isin(holidays).astype(int)"
   ]
  },
  {
   "cell_type": "code",
   "execution_count": 25,
   "id": "745c66de",
   "metadata": {},
   "outputs": [
    {
     "data": {
      "text/plain": [
       "Index(['AEP', 'COMED', 'DAYTON', 'DEOK', 'DOM', 'DUQ', 'EKPC', 'FE', 'NI',\n",
       "       'PJME', 'PJMW', 'PJM_Load', 'hour', 'day_of_week', 'month',\n",
       "       'day_of_year', 'is_weekend', 'AEP_lag_1', 'AEP_rolling_mean_24',\n",
       "       'AEP_rolling_std_24', 'COMED_lag_1', 'COMED_rolling_mean_24',\n",
       "       'COMED_rolling_std_24', 'DAYTON_lag_1', 'DAYTON_rolling_mean_24',\n",
       "       'DAYTON_rolling_std_24', 'DEOK_lag_1', 'DEOK_rolling_mean_24',\n",
       "       'DEOK_rolling_std_24', 'DOM_lag_1', 'DOM_rolling_mean_24',\n",
       "       'DOM_rolling_std_24', 'DUQ_lag_1', 'DUQ_rolling_mean_24',\n",
       "       'DUQ_rolling_std_24', 'EKPC_lag_1', 'EKPC_rolling_mean_24',\n",
       "       'EKPC_rolling_std_24', 'FE_lag_1', 'FE_rolling_mean_24',\n",
       "       'FE_rolling_std_24', 'NI_lag_1', 'NI_rolling_mean_24',\n",
       "       'NI_rolling_std_24', 'PJME_lag_1', 'PJME_rolling_mean_24',\n",
       "       'PJME_rolling_std_24', 'PJMW_lag_1', 'PJMW_rolling_mean_24',\n",
       "       'PJMW_rolling_std_24', 'PJM_Load_lag_1', 'PJM_Load_rolling_mean_24',\n",
       "       'PJM_Load_rolling_std_24', 'is_holiday'],\n",
       "      dtype='object')"
      ]
     },
     "execution_count": 25,
     "metadata": {},
     "output_type": "execute_result"
    }
   ],
   "source": [
    "df_cleaned.columns"
   ]
  },
  {
   "cell_type": "code",
   "execution_count": 29,
   "id": "0bd54d9e",
   "metadata": {},
   "outputs": [
    {
     "name": "stdout",
     "output_type": "stream",
     "text": [
      "564\n"
     ]
    }
   ],
   "source": [
    "## checking for null values\n",
    "print(df_cleaned.isnull().sum().sum())"
   ]
  },
  {
   "cell_type": "code",
   "execution_count": 30,
   "id": "7843a4e1",
   "metadata": {},
   "outputs": [],
   "source": [
    "## dropping the null values\n",
    "df_cleaned.dropna(inplace=True)"
   ]
  },
  {
   "cell_type": "code",
   "execution_count": null,
   "id": "d71d2b68",
   "metadata": {},
   "outputs": [
    {
     "ename": "",
     "evalue": "",
     "output_type": "error",
     "traceback": [
      "\u001b[1;31mThe Kernel crashed while executing code in the current cell or a previous cell. \n",
      "\u001b[1;31mPlease review the code in the cell(s) to identify a possible cause of the failure. \n",
      "\u001b[1;31mClick <a href='https://aka.ms/vscodeJupyterKernelCrash'>here</a> for more info. \n",
      "\u001b[1;31mView Jupyter <a href='command:jupyter.viewOutput'>log</a> for further details."
     ]
    }
   ],
   "source": [
    "## saving the cleaned data with new features\n",
    "df_cleaned.to_parquet(r\"C:\\Users\\himan\\Desktop\\Projects\\Energy_Forecasting_System\\data\\processed-data\\est_hourly_cleaned_with_features.parquet\")"
   ]
  }
 ],
 "metadata": {
  "kernelspec": {
   "display_name": "Python 3",
   "language": "python",
   "name": "python3"
  },
  "language_info": {
   "codemirror_mode": {
    "name": "ipython",
    "version": 3
   },
   "file_extension": ".py",
   "mimetype": "text/x-python",
   "name": "python",
   "nbconvert_exporter": "python",
   "pygments_lexer": "ipython3",
   "version": "3.11.9"
  }
 },
 "nbformat": 4,
 "nbformat_minor": 5
}
